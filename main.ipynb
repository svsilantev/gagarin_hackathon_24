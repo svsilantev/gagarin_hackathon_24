{
 "cells": [
  {
   "cell_type": "markdown",
   "id": "1799cd61",
   "metadata": {},
   "source": [
    "# Импорт библиотек"
   ]
  },
  {
   "cell_type": "code",
   "execution_count": 8,
   "id": "initial_id",
   "metadata": {
    "ExecuteTime": {
     "end_time": "2024-04-10T20:26:56.778797Z",
     "start_time": "2024-04-10T20:26:56.619452Z"
    }
   },
   "outputs": [],
   "source": [
    "from dotenv import load_dotenv\n",
    "from yandex_gpt import YandexGPT, YandexGPTConfigManager"
   ]
  },
  {
   "cell_type": "markdown",
   "id": "648f7519",
   "metadata": {},
   "source": [
    "# Переменные"
   ]
  },
  {
   "cell_type": "code",
   "execution_count": 9,
   "id": "db3a803366e2556",
   "metadata": {
    "ExecuteTime": {
     "end_time": "2024-04-10T20:26:56.792966Z",
     "start_time": "2024-04-10T20:26:56.783745Z"
    }
   },
   "outputs": [
    {
     "data": {
      "text/plain": [
       "True"
      ]
     },
     "execution_count": 9,
     "metadata": {},
     "output_type": "execute_result"
    }
   ],
   "source": [
    "path_to_env = '.env'\n",
    "load_dotenv(dotenv_path=path_to_env)"
   ]
  },
  {
   "cell_type": "code",
   "execution_count": 10,
   "id": "466fc5d01ea4dd21",
   "metadata": {
    "ExecuteTime": {
     "end_time": "2024-04-10T20:26:57.467553Z",
     "start_time": "2024-04-10T20:26:57.326603Z"
    }
   },
   "outputs": [],
   "source": [
    "yandex_gpt = YandexGPT(\n",
    "    config_manager=YandexGPTConfigManager()\n",
    ")"
   ]
  },
  {
   "cell_type": "markdown",
   "id": "e5e1102e",
   "metadata": {},
   "source": [
    "# Вопросы"
   ]
  },
  {
   "cell_type": "code",
   "execution_count": 11,
   "id": "3d9ece96",
   "metadata": {},
   "outputs": [
    {
     "name": "stdout",
     "output_type": "stream",
     "text": [
      "ФИО человекаСултанова Магира Хабибулловна\n"
     ]
    }
   ],
   "source": [
    "name = input(\"ФИО человека\")"
   ]
  },
  {
   "cell_type": "code",
   "execution_count": 12,
   "id": "04e83da0",
   "metadata": {},
   "outputs": [
    {
     "name": "stdout",
     "output_type": "stream",
     "text": [
      "Пол человекаЖенский\n"
     ]
    }
   ],
   "source": [
    "gender = input(\"Пол человека\")"
   ]
  },
  {
   "cell_type": "code",
   "execution_count": 13,
   "id": "19fb5a4d",
   "metadata": {},
   "outputs": [
    {
     "name": "stdout",
     "output_type": "stream",
     "text": [
      "Годы жизни1929-2021\n"
     ]
    }
   ],
   "source": [
    "years_old = input(\"Годы жизни\")"
   ]
  },
  {
   "cell_type": "code",
   "execution_count": 18,
   "id": "8e8912b1",
   "metadata": {},
   "outputs": [
    {
     "name": "stdout",
     "output_type": "stream",
     "text": [
      "\n",
      "Кем работал(а) и чем занимался(лась) он/она?\n",
      "акушеркой всю жизнь\n"
     ]
    }
   ],
   "source": [
    "first_answer = input(\"\"\"\n",
    "Кем работал(а) и чем занимался(лась) он/она?\n",
    "\"\"\")"
   ]
  },
  {
   "cell_type": "code",
   "execution_count": 14,
   "id": "f332d8a9",
   "metadata": {},
   "outputs": [
    {
     "name": "stdout",
     "output_type": "stream",
     "text": [
      "\n",
      "Есть ли какие-то особые моменты или воспоминания, \n",
      "которые вы ассоциируете с этим человеком?\n",
      "Я её внук, мы в школе играли Фрекен Бок и карлсона\n"
     ]
    }
   ],
   "source": [
    "second_answer = input(\"\"\"\n",
    "Есть ли какие-то особые моменты или воспоминания, \n",
    "которые вы ассоциируете с этим человеком?\n",
    "\"\"\")"
   ]
  },
  {
   "cell_type": "code",
   "execution_count": 15,
   "id": "f09e9599",
   "metadata": {},
   "outputs": [
    {
     "name": "stdout",
     "output_type": "stream",
     "text": [
      "\n",
      "Какие его/её достижения вы считаете наиболее значимыми?\n",
      "Основание татарского центра в Кургане\n"
     ]
    }
   ],
   "source": [
    "third_answer = input(\"\"\"\n",
    "Какие его/её достижения вы считаете наиболее значимыми?\n",
    "\"\"\")"
   ]
  },
  {
   "cell_type": "code",
   "execution_count": 16,
   "id": "c5c784fd",
   "metadata": {},
   "outputs": [
    {
     "name": "stdout",
     "output_type": "stream",
     "text": [
      "\n",
      "Какие увлечения или хобби были у него/неё?\n",
      "Разведение цветов\n"
     ]
    }
   ],
   "source": [
    "forth_answer  = input(\"\"\"\n",
    "Какие увлечения или хобби были у него/неё?\n",
    "\"\"\")"
   ]
  },
  {
   "cell_type": "code",
   "execution_count": 17,
   "id": "d60458c2",
   "metadata": {},
   "outputs": [
    {
     "name": "stdout",
     "output_type": "stream",
     "text": [
      "\n",
      "Есть ли любимые цитаты или выражения, которые он/она часто говорил(а)?\n",
      "Что умевши не храним, а потерявши плачем\n"
     ]
    }
   ],
   "source": [
    "fifth_answer = input(\"\"\"\n",
    "Есть ли любимые цитаты или выражения, которые он/она часто говорил(а)?\n",
    "\"\"\")"
   ]
  },
  {
   "cell_type": "markdown",
   "id": "3cc9e9f1",
   "metadata": {},
   "source": [
    "# Промпт"
   ]
  },
  {
   "cell_type": "code",
   "execution_count": 110,
   "id": "f6829170",
   "metadata": {},
   "outputs": [],
   "source": [
    "user_prompt_bio = \"\".join(\n",
    "    [\n",
    "        f\"\"\"\n",
    "        Напиши короткую биографию о человеке в 3-4 предложения\n",
    "        Нужен только текст без сопроводительных комментариев \n",
    "        и метакомментариев о том, что его можно поправить\n",
    "        О нём известно:\n",
    "        Имя {name}\n",
    "        Годы жизни {years_old}\n",
    "        Его пол {gender}\n",
    "        Работал/занимался {first_answer}\n",
    "        Родственник помнит о нём {second_answer}\n",
    "        Родственник считает наиболее значимым достижением {third_answer}\n",
    "        Хобби человека {forth_answer}\n",
    "        Любимая фраза {fifth_answer}\n",
    "        \"\"\",\n",
    "    ]\n",
    ")\n",
    "\n",
    "messages = [\n",
    "    {\"role\": \"system\", \"text\": system_prompt},\n",
    "    {\"role\": \"user\", \"text\": user_prompt_bio},\n",
    "]"
   ]
  },
  {
   "cell_type": "markdown",
   "id": "f5c6faa8",
   "metadata": {},
   "source": [
    "# Отправка запроса"
   ]
  },
  {
   "cell_type": "code",
   "execution_count": 111,
   "id": "65eaa727ed35f151",
   "metadata": {
    "ExecuteTime": {
     "end_time": "2024-04-10T20:27:52.871296Z",
     "start_time": "2024-04-10T20:27:10.417345Z"
    }
   },
   "outputs": [],
   "source": [
    "results = []\n",
    "\n",
    "for variant in range(3):\n",
    "    completion_result_bio = await yandex_gpt.get_completion(\n",
    "        messages=messages, \n",
    "        temperature=0.9, \n",
    "        max_tokens=400,\n",
    "        timeout=300\n",
    "    )\n",
    "    results.append(completion_result_bio)"
   ]
  },
  {
   "cell_type": "code",
   "execution_count": 112,
   "id": "3c2407f7",
   "metadata": {},
   "outputs": [
    {
     "data": {
      "text/plain": [
       "['Султанова Магира Хабибулловна (1929–2021) — всю свою жизнь проработала акушеркой. Она основала татарский центр в Кургане, что её внук считает самым значительным достижением бабушки. Магира Хабибулловна любила разводить цветы. Внук вспоминает, что в детстве они играли во Фрекен Бок и Карлсона.',\n",
       " 'Султанова Магира Хабибулловна (1929–2021) — акушеркой проработала всю жизнь. Основала татарский центр в Кургане. Увлекалась разведением цветов. Внук вспоминает, как они играли в школе в «Фрёкен Бок» и «Карлсона».',\n",
       " '**Султанова Магира Хабибулловна** (1929–2021) — посвятила свою жизнь благородной профессии акушерки. \\n\\nОсновала татарский центр в Кургане, что стало главным достижением в её жизни.\\n\\nЛюбила разводить цветы и часто повторяла фразу: «Что умевши не храним, а потерявши плачем».']"
      ]
     },
     "execution_count": 112,
     "metadata": {},
     "output_type": "execute_result"
    }
   ],
   "source": [
    "results"
   ]
  },
  {
   "cell_type": "markdown",
   "id": "c020e884",
   "metadata": {},
   "source": [
    "# Выбор лучшего варианта"
   ]
  },
  {
   "cell_type": "code",
   "execution_count": 113,
   "id": "64cf8ae9",
   "metadata": {},
   "outputs": [
    {
     "name": "stdout",
     "output_type": "stream",
     "text": [
      "Выберете лучший вариант ответа3\n"
     ]
    }
   ],
   "source": [
    "number_bio = int(input('Выберете лучший вариант ответа'))\n",
    "bio = results[number_bio-1]"
   ]
  },
  {
   "cell_type": "markdown",
   "id": "5c1bff6f",
   "metadata": {},
   "source": [
    "# Эпитафия"
   ]
  },
  {
   "cell_type": "code",
   "execution_count": 120,
   "id": "a729d9fc",
   "metadata": {},
   "outputs": [],
   "source": [
    "user_prompt_bio = \"\".join(\n",
    "    [\n",
    "        f\"\"\"\n",
    "        Напиши 1-2 предложения для интернет-сайта\n",
    "        о человеке с такой биографией\n",
    "        {bio}\n",
    "        Нужен только текст без сопроводительных комментариев \n",
    "        и метакомментариев о том, что его можно поправить\n",
    "        \"\"\",\n",
    "    ]\n",
    ")\n",
    "\n",
    "messages = [\n",
    "    {\"role\": \"system\", \"text\": system_prompt},\n",
    "    {\"role\": \"user\", \"text\": user_prompt_bio},\n",
    "]"
   ]
  },
  {
   "cell_type": "code",
   "execution_count": 121,
   "id": "1e97957e",
   "metadata": {},
   "outputs": [],
   "source": [
    "results = []\n",
    "\n",
    "for variant in range(3):\n",
    "    completion_result_ep = await yandex_gpt.get_completion(\n",
    "        messages=messages, \n",
    "        temperature=0.95, \n",
    "        max_tokens=200,\n",
    "        timeout=300\n",
    "    )\n",
    "    results.append(completion_result_ep)"
   ]
  },
  {
   "cell_type": "code",
   "execution_count": 122,
   "id": "e9a96f4f",
   "metadata": {},
   "outputs": [
    {
     "data": {
      "text/plain": [
       "['Султанова Магира Хабибулловна (1929–2021) — посвятила свою жизнь благородной профессии акушерки и основала татарский центр в Кургане, что стало главным достижением в её жизни.',\n",
       " 'Султанова Магира Хабибулловна – выдающаяся акушерка, основательница татарского центра в Кургане. Любила разводить цветы и была известна своей жизненной мудростью.',\n",
       " 'Султанова Магира Хабибулловна (1929–2021) — посвятила свою жизнь благородной профессии акушерки и основала татарский центр в Кургане, что стало главным достижением в её жизни.']"
      ]
     },
     "execution_count": 122,
     "metadata": {},
     "output_type": "execute_result"
    }
   ],
   "source": [
    "results"
   ]
  },
  {
   "cell_type": "code",
   "execution_count": null,
   "id": "1b409ed2",
   "metadata": {},
   "outputs": [],
   "source": []
  }
 ],
 "metadata": {
  "kernelspec": {
   "display_name": "Python 3 (ipykernel)",
   "language": "python",
   "name": "python3"
  },
  "language_info": {
   "codemirror_mode": {
    "name": "ipython",
    "version": 3
   },
   "file_extension": ".py",
   "mimetype": "text/x-python",
   "name": "python",
   "nbconvert_exporter": "python",
   "pygments_lexer": "ipython3",
   "version": "3.11.5"
  }
 },
 "nbformat": 4,
 "nbformat_minor": 5
}
